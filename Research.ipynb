{
 "cells": [
  {
   "cell_type": "markdown",
   "metadata": {},
   "source": [
    "### Relation between mean correlation coefficient and market stress\n",
    "\n",
    "http://www.nature.com/articles/srep00752\n",
    "![alt text](http://www.nature.com/article-assets/npg/srep/2012/121018/srep00752/images_hires/w926/srep00752-f3.jpg \"Mean correlation coefficient vs Dow Jones Industrial Index returns\")"
   ]
  }
 ],
 "metadata": {
  "kernelspec": {
   "display_name": "Python 2",
   "language": "python",
   "name": "python2"
  },
  "language_info": {
   "codemirror_mode": {
    "name": "ipython",
    "version": 2
   },
   "file_extension": ".py",
   "mimetype": "text/x-python",
   "name": "python",
   "nbconvert_exporter": "python",
   "pygments_lexer": "ipython2",
   "version": "2.7.12"
  }
 },
 "nbformat": 4,
 "nbformat_minor": 0
}
