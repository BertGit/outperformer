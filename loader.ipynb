{
 "cells": [
  {
   "cell_type": "markdown",
   "metadata": {},
   "source": [
    "# Outperformer - Data Loading\n",
    "### Writes adjusted close prices of NASDAQ 100 to csv file"
   ]
  },
  {
   "cell_type": "code",
   "execution_count": 8,
   "metadata": {
    "collapsed": false
   },
   "outputs": [
    {
     "name": "stderr",
     "output_type": "stream",
     "text": [
      "/opt/local/Library/Frameworks/Python.framework/Versions/2.7/lib/python2.7/site-packages/matplotlib/font_manager.py:273: UserWarning: Matplotlib is building the font cache using fc-list. This may take a moment.\n",
      "  warnings.warn('Matplotlib is building the font cache using fc-list. This may take a moment.')\n"
     ]
    }
   ],
   "source": [
    "%matplotlib inline\n",
    "import matplotlib.pyplot as plt\n",
    "import pandas_datareader.data as web\n",
    "import datetime"
   ]
  },
  {
   "cell_type": "code",
   "execution_count": 9,
   "metadata": {
    "collapsed": true
   },
   "outputs": [],
   "source": [
    "start = datetime.datetime(2014, 1, 1)\n",
    "end = datetime.datetime.now()"
   ]
  },
  {
   "cell_type": "code",
   "execution_count": 20,
   "metadata": {
    "collapsed": false
   },
   "outputs": [
    {
     "name": "stdout",
     "output_type": "stream",
     "text": [
      "105\n"
     ]
    }
   ],
   "source": [
    "tl = open('tickerlist', 'r')\n",
    "tickers = [t.strip('\\n') for t in tl]\n",
    "print len(tickers)"
   ]
  },
  {
   "cell_type": "code",
   "execution_count": 14,
   "metadata": {
    "collapsed": false
   },
   "outputs": [
    {
     "name": "stdout",
     "output_type": "stream",
     "text": [
      "['ATVI', 'ADBE', 'AKAM', 'ALXN', 'GOOG', 'GOOGL', 'AMZN', 'AAL', 'AMGN', 'ADI', 'AAPL', 'AMAT', 'ADSK', 'ADP', 'BIDU', 'BBBY', 'BIIB', 'BMRN', 'AVGO', 'CA', 'CELG', 'CERN', 'CHTR', 'CHKP', 'CSCO', 'CTXS', 'CTSH', 'CMCSA', 'COST', 'CSX', 'CTRP', 'XRAY', 'DISCA', 'DISCK', 'DISH', 'DLTR', 'EBAY', 'EA', 'ENDP', 'EXPE', 'ESRX', 'FB', 'FAST', 'FISV', 'GILD', 'HSIC', 'ILMN', 'INCY', 'INTC', 'INTU', 'ISRG', 'JD', 'LRCX', 'LBTYA', 'LBTYK', 'LVNTA', 'QVCA', 'LLTC', 'MAR', 'MAT', 'MXIM', 'MU', 'MSFT', 'MDLZ', 'MNST', 'MYL', 'NTAP', 'NTES', 'NFLX', 'NCLH', 'NVDA', 'NXPI', 'ORLY', 'PCAR', 'PAYX', 'PYPL', 'QCOM', 'REGN', 'ROST', 'SBAC', 'STX', 'SIRI', 'SWKS', 'SBUX', 'SRCL', 'SYMC', 'TMUS', 'TSLA', 'TXN', 'KHC', 'PCLN', 'TSCO', 'TRIP', 'FOX', 'FOXA', 'ULTA', 'VRSK', 'VRTX', 'VIAB', 'VOD', 'WBA', 'WDC', 'WFM', 'XLNX', 'YHOO']\n"
     ]
    }
   ],
   "source": [
    "print tickers"
   ]
  },
  {
   "cell_type": "code",
   "execution_count": 15,
   "metadata": {
    "collapsed": false
   },
   "outputs": [],
   "source": [
    "df = web.DataReader(tickers, 'yahoo', start, end)"
   ]
  },
  {
   "cell_type": "code",
   "execution_count": 21,
   "metadata": {
    "collapsed": false
   },
   "outputs": [],
   "source": [
    "df['Adj Close'].to_csv('adj_close.csv')"
   ]
  }
 ],
 "metadata": {
  "kernelspec": {
   "display_name": "Python 2",
   "language": "python",
   "name": "python2"
  },
  "language_info": {
   "codemirror_mode": {
    "name": "ipython",
    "version": 2
   },
   "file_extension": ".py",
   "mimetype": "text/x-python",
   "name": "python",
   "nbconvert_exporter": "python",
   "pygments_lexer": "ipython2",
   "version": "2.7.12"
  }
 },
 "nbformat": 4,
 "nbformat_minor": 0
}
